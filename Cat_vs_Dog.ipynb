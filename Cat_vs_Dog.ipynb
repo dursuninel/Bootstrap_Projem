{
  "nbformat": 4,
  "nbformat_minor": 0,
  "metadata": {
    "colab": {
      "provenance": [],
      "gpuType": "T4",
      "authorship_tag": "ABX9TyNjz0qGJJULKztgHsBoDzUW",
      "include_colab_link": true
    },
    "kernelspec": {
      "name": "python3",
      "display_name": "Python 3"
    },
    "language_info": {
      "name": "python"
    },
    "accelerator": "GPU"
  },
  "cells": [
    {
      "cell_type": "markdown",
      "metadata": {
        "id": "view-in-github",
        "colab_type": "text"
      },
      "source": [
        "<a href=\"https://colab.research.google.com/github/dursuninel/Bootstrap_Projem/blob/master/Cat_vs_Dog.ipynb\" target=\"_parent\"><img src=\"https://colab.research.google.com/assets/colab-badge.svg\" alt=\"Open In Colab\"/></a>"
      ]
    },
    {
      "cell_type": "code",
      "execution_count": null,
      "metadata": {
        "id": "zdaXapMr48Oa"
      },
      "outputs": [],
      "source": [
        "import numpy as np\n",
        "import pandas as pd\n",
        "import seaborn as sns\n",
        "import matplotlib.pyplot as plt\n",
        "from sklearn.preprocessing import StandardScaler\n",
        "from sklearn.model_selection import train_test_split\n",
        "import tensorflow as tf\n",
        "from tensorflow import keras\n",
        "from tensorflow.keras.models import Sequential\n",
        "from tensorflow.keras.callbacks import ModelCheckpoint\n",
        "from tensorflow.keras.layers import Conv2D, MaxPooling2D, Flatten, Dropout, Dense\n",
        "from tensorflow.keras import layers\n",
        "import cv2, os\n",
        "from tqdm import tqdm\n",
        "from random import shuffle\n",
        "import shutil"
      ]
    },
    {
      "cell_type": "code",
      "source": [
        "!wget \"https://cainvas-static.s3.amazonaws.com/media/user_data/tanmay/dogvcat.zip\"\n",
        "!unzip -qo dogvcat.zip"
      ],
      "metadata": {
        "colab": {
          "base_uri": "https://localhost:8080/"
        },
        "id": "yo9uupnx5I2I",
        "outputId": "ee621762-d477-4a71-ec0f-ad116cdde991"
      },
      "execution_count": null,
      "outputs": [
        {
          "output_type": "stream",
          "name": "stdout",
          "text": [
            "--2023-12-11 17:28:55--  https://cainvas-static.s3.amazonaws.com/media/user_data/tanmay/dogvcat.zip\n",
            "Resolving cainvas-static.s3.amazonaws.com (cainvas-static.s3.amazonaws.com)... 52.219.160.155, 16.12.36.103, 52.219.156.43, ...\n",
            "Connecting to cainvas-static.s3.amazonaws.com (cainvas-static.s3.amazonaws.com)|52.219.160.155|:443... connected.\n",
            "HTTP request sent, awaiting response... 200 OK\n",
            "Length: 60547127 (58M) [application/zip]\n",
            "Saving to: ‘dogvcat.zip’\n",
            "\n",
            "dogvcat.zip         100%[===================>]  57.74M  12.5MB/s    in 5.5s    \n",
            "\n",
            "2023-12-11 17:29:02 (10.5 MB/s) - ‘dogvcat.zip’ saved [60547127/60547127]\n",
            "\n"
          ]
        }
      ]
    },
    {
      "cell_type": "code",
      "source": [
        "train_dir= \"./datset/training\"\n",
        "test_dir= \"./datset/testing/\"\n",
        "train_datagen = tf.keras.preprocessing.image.ImageDataGenerator(rescale=1./255, validation_split= 0.2)\n",
        "train_generator = train_datagen.flow_from_directory(train_dir, target_size=(50,50), color_mode='grayscale', batch_size=20, class_mode='binary', subset= 'training')\n",
        "val_generator = train_datagen.flow_from_directory(train_dir, target_size=(50,50), color_mode='grayscale', batch_size=20, class_mode='binary', subset= 'validation')"
      ],
      "metadata": {
        "colab": {
          "base_uri": "https://localhost:8080/"
        },
        "id": "lfd7JZD15QA0",
        "outputId": "465722bf-fc90-4695-a9ba-7ee5b59fe258"
      },
      "execution_count": null,
      "outputs": [
        {
          "output_type": "stream",
          "name": "stdout",
          "text": [
            "Found 19860 images belonging to 2 classes.\n",
            "Found 4963 images belonging to 2 classes.\n"
          ]
        }
      ]
    },
    {
      "cell_type": "code",
      "source": [
        "model = tf.keras.models.Sequential()\n",
        "model.add(tf.keras.layers.Conv2D(16, kernel_size=(3,3), activation='relu',input_shape=(50,50,1), padding='same'))\n",
        "# model.add(LeakyReLU(alpha=0.1))\n",
        "model.add(tf.keras.layers.MaxPooling2D(pool_size=(2,2), padding='same'))\n",
        "model.add(tf.keras.layers.Conv2D(32, kernel_size=(3,3), activation='relu', padding='same'))\n",
        "# model.add(tf.keras.activations.relu(alpha=0.1))\n",
        "model.add(tf.keras.layers.MaxPooling2D(pool_size=(2,2), padding='same'))\n",
        "model.add(tf.keras.layers.Conv2D(64, kernel_size=(3,3), activation='relu', padding='same'))\n",
        "# model.add(tf.keras.activations.relu(alpha=0.1))\n",
        "model.add(tf.keras.layers.MaxPooling2D(pool_size=(2,2), padding='same'))\n",
        "model.add(tf.keras.layers.Conv2D(64, kernel_size=(3,3), activation='relu', padding='same'))\n",
        "# model.add(tf.keras.activations.relu(alpha=0.1))\n",
        "model.add(tf.keras.layers.MaxPooling2D(pool_size=(2,2), padding='same'))\n",
        "model.add(tf.keras.layers.Flatten())\n",
        "model.add(tf.keras.layers.Dropout(0.5))\n",
        "model.add(tf.keras.layers.Dense(128, activation=tf.nn.relu))\n",
        "# model.add(tf.keras.activations.relu(alpha=0.1))\n",
        "model.add(Dropout(0.5))\n",
        "model.add(tf.keras.layers.Dense(256, activation=tf.nn.relu))\n",
        "model.add(tf.keras.layers.Dense(1, activation='sigmoid'))\n",
        "model.summary()"
      ],
      "metadata": {
        "colab": {
          "base_uri": "https://localhost:8080/"
        },
        "id": "leEZqzq95XRJ",
        "outputId": "25f64721-12db-4283-ec14-94000a40d29a"
      },
      "execution_count": null,
      "outputs": [
        {
          "output_type": "stream",
          "name": "stdout",
          "text": [
            "Model: \"sequential\"\n",
            "_________________________________________________________________\n",
            " Layer (type)                Output Shape              Param #   \n",
            "=================================================================\n",
            " conv2d (Conv2D)             (None, 50, 50, 16)        160       \n",
            "                                                                 \n",
            " max_pooling2d (MaxPooling2  (None, 25, 25, 16)        0         \n",
            " D)                                                              \n",
            "                                                                 \n",
            " conv2d_1 (Conv2D)           (None, 25, 25, 32)        4640      \n",
            "                                                                 \n",
            " max_pooling2d_1 (MaxPoolin  (None, 13, 13, 32)        0         \n",
            " g2D)                                                            \n",
            "                                                                 \n",
            " conv2d_2 (Conv2D)           (None, 13, 13, 64)        18496     \n",
            "                                                                 \n",
            " max_pooling2d_2 (MaxPoolin  (None, 7, 7, 64)          0         \n",
            " g2D)                                                            \n",
            "                                                                 \n",
            " conv2d_3 (Conv2D)           (None, 7, 7, 64)          36928     \n",
            "                                                                 \n",
            " max_pooling2d_3 (MaxPoolin  (None, 4, 4, 64)          0         \n",
            " g2D)                                                            \n",
            "                                                                 \n",
            " flatten (Flatten)           (None, 1024)              0         \n",
            "                                                                 \n",
            " dropout (Dropout)           (None, 1024)              0         \n",
            "                                                                 \n",
            " dense (Dense)               (None, 128)               131200    \n",
            "                                                                 \n",
            " dropout_1 (Dropout)         (None, 128)               0         \n",
            "                                                                 \n",
            " dense_1 (Dense)             (None, 256)               33024     \n",
            "                                                                 \n",
            " dense_2 (Dense)             (None, 1)                 257       \n",
            "                                                                 \n",
            "=================================================================\n",
            "Total params: 224705 (877.75 KB)\n",
            "Trainable params: 224705 (877.75 KB)\n",
            "Non-trainable params: 0 (0.00 Byte)\n",
            "_________________________________________________________________\n"
          ]
        }
      ]
    },
    {
      "cell_type": "code",
      "source": [
        "# Model Compilation\n",
        "model.compile(optimizer='adam', loss='binary_crossentropy', metrics=['accuracy'])\n",
        "history = model.fit_generator(train_generator, epochs=20, validation_data=val_generator, validation_steps=50)"
      ],
      "metadata": {
        "colab": {
          "base_uri": "https://localhost:8080/"
        },
        "id": "zrFMiuqe7Fsr",
        "outputId": "0a11b793-1efe-488d-aa70-38253356b484"
      },
      "execution_count": null,
      "outputs": [
        {
          "output_type": "stream",
          "name": "stdout",
          "text": [
            "Epoch 1/20\n"
          ]
        },
        {
          "output_type": "stream",
          "name": "stderr",
          "text": [
            "<ipython-input-7-72183d3709fe>:3: UserWarning: `Model.fit_generator` is deprecated and will be removed in a future version. Please use `Model.fit`, which supports generators.\n",
            "  history = model.fit_generator(train_generator, epochs=20, validation_data=val_generator, validation_steps=50)\n"
          ]
        },
        {
          "output_type": "stream",
          "name": "stdout",
          "text": [
            "993/993 [==============================] - 27s 15ms/step - loss: 0.6752 - accuracy: 0.5671 - val_loss: 0.6290 - val_accuracy: 0.6730\n",
            "Epoch 2/20\n",
            "993/993 [==============================] - 15s 15ms/step - loss: 0.6123 - accuracy: 0.6719 - val_loss: 0.5430 - val_accuracy: 0.7440\n",
            "Epoch 3/20\n",
            "993/993 [==============================] - 15s 15ms/step - loss: 0.5543 - accuracy: 0.7202 - val_loss: 0.5375 - val_accuracy: 0.7260\n",
            "Epoch 4/20\n",
            "993/993 [==============================] - 15s 15ms/step - loss: 0.5059 - accuracy: 0.7538 - val_loss: 0.4797 - val_accuracy: 0.7650\n",
            "Epoch 5/20\n",
            "993/993 [==============================] - 15s 15ms/step - loss: 0.4649 - accuracy: 0.7840 - val_loss: 0.4844 - val_accuracy: 0.7640\n",
            "Epoch 6/20\n",
            "993/993 [==============================] - 15s 15ms/step - loss: 0.4358 - accuracy: 0.7998 - val_loss: 0.4448 - val_accuracy: 0.8030\n",
            "Epoch 7/20\n",
            "993/993 [==============================] - 15s 15ms/step - loss: 0.4120 - accuracy: 0.8147 - val_loss: 0.4150 - val_accuracy: 0.8040\n",
            "Epoch 8/20\n",
            "993/993 [==============================] - 15s 15ms/step - loss: 0.3945 - accuracy: 0.8226 - val_loss: 0.4337 - val_accuracy: 0.7960\n",
            "Epoch 9/20\n",
            "993/993 [==============================] - 15s 15ms/step - loss: 0.3723 - accuracy: 0.8333 - val_loss: 0.4545 - val_accuracy: 0.7860\n",
            "Epoch 10/20\n",
            "993/993 [==============================] - 15s 15ms/step - loss: 0.3580 - accuracy: 0.8426 - val_loss: 0.4222 - val_accuracy: 0.8050\n",
            "Epoch 11/20\n",
            "993/993 [==============================] - 15s 15ms/step - loss: 0.3403 - accuracy: 0.8485 - val_loss: 0.4081 - val_accuracy: 0.8210\n",
            "Epoch 12/20\n",
            "993/993 [==============================] - 15s 15ms/step - loss: 0.3258 - accuracy: 0.8571 - val_loss: 0.4073 - val_accuracy: 0.8030\n",
            "Epoch 13/20\n",
            "993/993 [==============================] - 15s 15ms/step - loss: 0.3093 - accuracy: 0.8644 - val_loss: 0.4027 - val_accuracy: 0.8110\n",
            "Epoch 14/20\n",
            "993/993 [==============================] - 15s 15ms/step - loss: 0.3050 - accuracy: 0.8683 - val_loss: 0.4019 - val_accuracy: 0.8180\n",
            "Epoch 15/20\n",
            "993/993 [==============================] - 15s 15ms/step - loss: 0.2857 - accuracy: 0.8803 - val_loss: 0.3677 - val_accuracy: 0.8300\n",
            "Epoch 16/20\n",
            "993/993 [==============================] - 15s 15ms/step - loss: 0.2778 - accuracy: 0.8831 - val_loss: 0.3835 - val_accuracy: 0.8310\n",
            "Epoch 17/20\n",
            "993/993 [==============================] - 15s 15ms/step - loss: 0.2692 - accuracy: 0.8847 - val_loss: 0.4173 - val_accuracy: 0.8150\n",
            "Epoch 18/20\n",
            "993/993 [==============================] - 15s 15ms/step - loss: 0.2584 - accuracy: 0.8896 - val_loss: 0.3838 - val_accuracy: 0.8400\n",
            "Epoch 19/20\n",
            "993/993 [==============================] - 15s 15ms/step - loss: 0.2500 - accuracy: 0.8927 - val_loss: 0.3991 - val_accuracy: 0.8300\n",
            "Epoch 20/20\n",
            "993/993 [==============================] - 15s 15ms/step - loss: 0.2438 - accuracy: 0.8963 - val_loss: 0.4212 - val_accuracy: 0.8210\n"
          ]
        }
      ]
    },
    {
      "cell_type": "code",
      "source": [
        "plt.plot(history.history['loss'])\n",
        "plt.plot(history.history['val_loss'])\n",
        "plt.title('Model loss')\n",
        "plt.ylabel('Loss')\n",
        "plt.xlabel('Epoch')\n",
        "plt.legend(['Train', 'Test'], loc='upper left')\n",
        "plt.show()"
      ],
      "metadata": {
        "colab": {
          "base_uri": "https://localhost:8080/",
          "height": 472
        },
        "id": "WDaqPPIe88PH",
        "outputId": "7a962fcd-c865-42df-d977-00060405e43c"
      },
      "execution_count": null,
      "outputs": [
        {
          "output_type": "display_data",
          "data": {
            "text/plain": [
              "<Figure size 640x480 with 1 Axes>"
            ],
            "image/png": "[encoded data removed]"
          },
          "metadata": {}
        }
      ]
    },
    {
      "cell_type": "code",
      "source": [
        "from tensorflow.keras.preprocessing.image import load_img, img_to_array\n",
        "def Single_Image_Prediction(file):\n",
        "#     image = load_img(file, color_mode='rgb', target_size=(128, 128))\n",
        "    image = cv2.imread(file)\n",
        "    plt.imshow(image)\n",
        "    plt.show()\n",
        "    image = cv2.cvtColor(image, cv2.COLOR_BGR2GRAY)\n",
        "    img_arr = img_to_array(image)\n",
        "    img_arr = img_arr/255.\n",
        "    np_image = np.expand_dims(img_arr, axis=0)\n",
        "    return np_image\n",
        "image = Single_Image_Prediction('./datset/testing/8.jpg')\n",
        "\n",
        "pred_value = model.predict(tf.image.resize(image, (50, 50)))\n",
        "\n",
        "if pred_value < 0.5:\n",
        "    print('Kedi')\n",
        "else:\n",
        "    print('Köpek')"
      ],
      "metadata": {
        "colab": {
          "base_uri": "https://localhost:8080/",
          "height": 366
        },
        "id": "hWVBBpzw9EkC",
        "outputId": "fd78e75d-9f1f-4578-8941-112e49a8e649"
      },
      "execution_count": 1,
      "outputs": [
        {
          "output_type": "error",
          "ename": "NameError",
          "evalue": "ignored",
          "traceback": [
            "\u001b[0;31m---------------------------------------------------------------------------\u001b[0m",
            "\u001b[0;31mNameError\u001b[0m                                 Traceback (most recent call last)",
            "\u001b[0;32m<ipython-input-1-0e9db5cb18b4>\u001b[0m in \u001b[0;36m<cell line: 12>\u001b[0;34m()\u001b[0m\n\u001b[1;32m     10\u001b[0m     \u001b[0mnp_image\u001b[0m \u001b[0;34m=\u001b[0m \u001b[0mnp\u001b[0m\u001b[0;34m.\u001b[0m\u001b[0mexpand_dims\u001b[0m\u001b[0;34m(\u001b[0m\u001b[0mimg_arr\u001b[0m\u001b[0;34m,\u001b[0m \u001b[0maxis\u001b[0m\u001b[0;34m=\u001b[0m\u001b[0;36m0\u001b[0m\u001b[0;34m)\u001b[0m\u001b[0;34m\u001b[0m\u001b[0;34m\u001b[0m\u001b[0m\n\u001b[1;32m     11\u001b[0m     \u001b[0;32mreturn\u001b[0m \u001b[0mnp_image\u001b[0m\u001b[0;34m\u001b[0m\u001b[0;34m\u001b[0m\u001b[0m\n\u001b[0;32m---> 12\u001b[0;31m \u001b[0mimage\u001b[0m \u001b[0;34m=\u001b[0m \u001b[0mSingle_Image_Prediction\u001b[0m\u001b[0;34m(\u001b[0m\u001b[0;34m'./datset/testing/8.jpg'\u001b[0m\u001b[0;34m)\u001b[0m\u001b[0;34m\u001b[0m\u001b[0;34m\u001b[0m\u001b[0m\n\u001b[0m\u001b[1;32m     13\u001b[0m \u001b[0;34m\u001b[0m\u001b[0m\n\u001b[1;32m     14\u001b[0m \u001b[0mpred_value\u001b[0m \u001b[0;34m=\u001b[0m \u001b[0mmodel\u001b[0m\u001b[0;34m.\u001b[0m\u001b[0mpredict\u001b[0m\u001b[0;34m(\u001b[0m\u001b[0mtf\u001b[0m\u001b[0;34m.\u001b[0m\u001b[0mimage\u001b[0m\u001b[0;34m.\u001b[0m\u001b[0mresize\u001b[0m\u001b[0;34m(\u001b[0m\u001b[0mimage\u001b[0m\u001b[0;34m,\u001b[0m \u001b[0;34m(\u001b[0m\u001b[0;36m50\u001b[0m\u001b[0;34m,\u001b[0m \u001b[0;36m50\u001b[0m\u001b[0;34m)\u001b[0m\u001b[0;34m)\u001b[0m\u001b[0;34m)\u001b[0m\u001b[0;34m\u001b[0m\u001b[0;34m\u001b[0m\u001b[0m\n",
            "\u001b[0;32m<ipython-input-1-0e9db5cb18b4>\u001b[0m in \u001b[0;36mSingle_Image_Prediction\u001b[0;34m(file)\u001b[0m\n\u001b[1;32m      2\u001b[0m \u001b[0;32mdef\u001b[0m \u001b[0mSingle_Image_Prediction\u001b[0m\u001b[0;34m(\u001b[0m\u001b[0mfile\u001b[0m\u001b[0;34m)\u001b[0m\u001b[0;34m:\u001b[0m\u001b[0;34m\u001b[0m\u001b[0;34m\u001b[0m\u001b[0m\n\u001b[1;32m      3\u001b[0m \u001b[0;31m#     image = load_img(file, color_mode='rgb', target_size=(128, 128))\u001b[0m\u001b[0;34m\u001b[0m\u001b[0;34m\u001b[0m\u001b[0m\n\u001b[0;32m----> 4\u001b[0;31m     \u001b[0mimage\u001b[0m \u001b[0;34m=\u001b[0m \u001b[0mcv2\u001b[0m\u001b[0;34m.\u001b[0m\u001b[0mimread\u001b[0m\u001b[0;34m(\u001b[0m\u001b[0mfile\u001b[0m\u001b[0;34m)\u001b[0m\u001b[0;34m\u001b[0m\u001b[0;34m\u001b[0m\u001b[0m\n\u001b[0m\u001b[1;32m      5\u001b[0m     \u001b[0mplt\u001b[0m\u001b[0;34m.\u001b[0m\u001b[0mimshow\u001b[0m\u001b[0;34m(\u001b[0m\u001b[0mimage\u001b[0m\u001b[0;34m)\u001b[0m\u001b[0;34m\u001b[0m\u001b[0;34m\u001b[0m\u001b[0m\n\u001b[1;32m      6\u001b[0m     \u001b[0mplt\u001b[0m\u001b[0;34m.\u001b[0m\u001b[0mshow\u001b[0m\u001b[0;34m(\u001b[0m\u001b[0;34m)\u001b[0m\u001b[0;34m\u001b[0m\u001b[0;34m\u001b[0m\u001b[0m\n",
            "\u001b[0;31mNameError\u001b[0m: name 'cv2' is not defined"
          ]
        }
      ]
    },
    {
      "cell_type": "markdown",
      "source": [
        "# Yeni Bölüm"
      ],
      "metadata": {
        "id": "8IjcyFE691fM"
      }
    }
  ]
}